{
  "nbformat": 4,
  "nbformat_minor": 0,
  "metadata": {
    "colab": {
      "provenance": [],
      "gpuType": "T4",
      "authorship_tag": "ABX9TyNcgp+wxfpDU4ZQ+e2jJc/y",
      "include_colab_link": true
    },
    "kernelspec": {
      "name": "python3",
      "display_name": "Python 3"
    },
    "language_info": {
      "name": "python"
    },
    "accelerator": "GPU"
  },
  "cells": [
    {
      "cell_type": "markdown",
      "metadata": {
        "id": "view-in-github",
        "colab_type": "text"
      },
      "source": [
        "<a href=\"https://colab.research.google.com/github/ymoslem/Speech/blob/main/Whisper-Inference.ipynb\" target=\"_parent\"><img src=\"https://colab.research.google.com/assets/colab-badge.svg\" alt=\"Open In Colab\"/></a>"
      ]
    },
    {
      "cell_type": "code",
      "source": [
        "!pip install faster-whisper -q\n",
        "!pip install ctranslate2==4.4.0 -q"
      ],
      "metadata": {
        "id": "XbR1XWpOu78W"
      },
      "execution_count": null,
      "outputs": []
    },
    {
      "cell_type": "code",
      "source": [
        "!pip3 freeze | grep faster"
      ],
      "metadata": {
        "id": "xBUnvYyHs3hJ",
        "colab": {
          "base_uri": "https://localhost:8080/"
        },
        "outputId": "c26967e0-6ee0-4e7b-aaad-5f48582de1f7"
      },
      "execution_count": 2,
      "outputs": [
        {
          "output_type": "stream",
          "name": "stdout",
          "text": [
            "faster-whisper==1.1.0\n"
          ]
        }
      ]
    },
    {
      "cell_type": "code",
      "source": [
        "# !apt install libcublas11"
      ],
      "metadata": {
        "id": "ehureSX5ojcL"
      },
      "execution_count": null,
      "outputs": []
    },
    {
      "cell_type": "code",
      "source": [
        "!nvidia-smi"
      ],
      "metadata": {
        "colab": {
          "base_uri": "https://localhost:8080/"
        },
        "id": "9UAP-b5mwrXd",
        "outputId": "66391538-73f9-429d-8201-7af974fc6434"
      },
      "execution_count": 4,
      "outputs": [
        {
          "output_type": "stream",
          "name": "stdout",
          "text": [
            "Mon Dec 16 05:27:41 2024       \n",
            "+---------------------------------------------------------------------------------------+\n",
            "| NVIDIA-SMI 535.104.05             Driver Version: 535.104.05   CUDA Version: 12.2     |\n",
            "|-----------------------------------------+----------------------+----------------------+\n",
            "| GPU  Name                 Persistence-M | Bus-Id        Disp.A | Volatile Uncorr. ECC |\n",
            "| Fan  Temp   Perf          Pwr:Usage/Cap |         Memory-Usage | GPU-Util  Compute M. |\n",
            "|                                         |                      |               MIG M. |\n",
            "|=========================================+======================+======================|\n",
            "|   0  Tesla T4                       Off | 00000000:00:04.0 Off |                    0 |\n",
            "| N/A   40C    P8              11W /  70W |      0MiB / 15360MiB |      0%      Default |\n",
            "|                                         |                      |                  N/A |\n",
            "+-----------------------------------------+----------------------+----------------------+\n",
            "                                                                                         \n",
            "+---------------------------------------------------------------------------------------+\n",
            "| Processes:                                                                            |\n",
            "|  GPU   GI   CI        PID   Type   Process name                            GPU Memory |\n",
            "|        ID   ID                                                             Usage      |\n",
            "|=======================================================================================|\n",
            "|  No running processes found                                                           |\n",
            "+---------------------------------------------------------------------------------------+\n"
          ]
        }
      ]
    },
    {
      "cell_type": "code",
      "source": [
        "from faster_whisper import WhisperModel\n",
        "\n",
        "model_name = \"large-v3\"  # pretrained model -- try \"tiny\", \"base\", \"small\", \"medium\", \"large-v3\", or \"large-v3-turbo\"\n",
        "# model_name = \"whisper-small-finetuned-ct2\"  # converted model (after fine-tuning)\n",
        "\n",
        "# Run on GPU with FP16\n",
        "model = WhisperModel(model_name, device=\"cuda\", compute_type=\"float16\")\n",
        "\n",
        "# or run on GPU with INT8\n",
        "# model = WhisperModel(model_name, device=\"cuda\", compute_type=\"int8_float16\")\n",
        "# or run on CPU with INT8\n",
        "# model = WhisperModel(model_name, device=\"cpu\", compute_type=\"int8\")"
      ],
      "metadata": {
        "id": "q0blBD6UJtok"
      },
      "execution_count": 17,
      "outputs": []
    },
    {
      "cell_type": "code",
      "source": [
        "audio_file = \"test_data_jfk.flac\"  # change the file path\n",
        "\n",
        "segments, info = model.transcribe(audio_file,\n",
        "                                  beam_size=5,\n",
        "                                  language=\"fr\",\n",
        "                                  vad_filter=True\n",
        "                                  )\n",
        "\n",
        "print(\"Detected language '%s' with probability %f\" % (info.language, info.language_probability))\n",
        "\n",
        "for segment in segments:\n",
        "  print(\"[%.2fs -> %.2fs] %s\" % (segment.start, segment.end, segment.text))"
      ],
      "metadata": {
        "colab": {
          "base_uri": "https://localhost:8080/"
        },
        "id": "zpavU3RgAoFc",
        "outputId": "1328c3e4-dc2b-4654-fac3-6cd2a85cb656"
      },
      "execution_count": 21,
      "outputs": [
        {
          "output_type": "stream",
          "name": "stdout",
          "text": [
            "Detected language 'fr' with probability 1.000000\n",
            "[0.00s -> 10.34s]  Et donc, mes collègues américains, ne demandez pas ce que votre pays peut faire pour vous, demandez ce que vous pouvez faire pour votre pays.\n"
          ]
        }
      ]
    }
  ]
}