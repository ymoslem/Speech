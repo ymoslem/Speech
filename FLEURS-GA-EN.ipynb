{
  "cells": [
    {
      "cell_type": "markdown",
      "metadata": {
        "id": "view-in-github",
        "colab_type": "text"
      },
      "source": [
        "<a href=\"https://colab.research.google.com/github/ymoslem/Speech/blob/main/FLEURS-GA-EN.ipynb\" target=\"_parent\"><img src=\"https://colab.research.google.com/assets/colab-badge.svg\" alt=\"Open In Colab\"/></a>"
      ]
    },
    {
      "cell_type": "code",
      "execution_count": null,
      "metadata": {
        "id": "lIYdn1woOS1n"
      },
      "outputs": [],
      "source": [
        "!pip3 install datasets -q"
      ]
    },
    {
      "cell_type": "code",
      "source": [
        "# Load the FLEURS dataset for English and Irish\n",
        "# Change name=\"ga_ie\" to the language of your choice\n",
        "# Here we merge the 3 splits \"train+validation+test\", but you can download them separately\n",
        "\n",
        "from datasets import load_dataset\n",
        "\n",
        "fleurs_dataset_en = load_dataset(\"google/fleurs\",\n",
        "                                  name=\"en_us\",\n",
        "                                  split=\"train+validation+test\",\n",
        "                                  token=True,\n",
        "                                  trust_remote_code=True,\n",
        "                                )\n",
        "\n",
        "fleurs_dataset_ga = load_dataset(\"google/fleurs\",\n",
        "                                  name=\"ga_ie\",\n",
        "                                  split=\"train+validation+test\",\n",
        "                                  token=True,\n",
        "                                  trust_remote_code=True,\n",
        "                                )"
      ],
      "metadata": {
        "id": "981-kVN1XzhZ"
      },
      "execution_count": null,
      "outputs": []
    },
    {
      "cell_type": "code",
      "source": [
        "print(fleurs_dataset_en)\n",
        "print(fleurs_dataset_ga)"
      ],
      "metadata": {
        "colab": {
          "base_uri": "https://localhost:8080/"
        },
        "id": "NHp_feHNaASM",
        "outputId": "eb86663c-dd88-46e3-cddd-3b72480eb2b2"
      },
      "execution_count": null,
      "outputs": [
        {
          "output_type": "stream",
          "name": "stdout",
          "text": [
            "Dataset({\n",
            "    features: ['id', 'num_samples', 'path', 'audio', 'transcription', 'raw_transcription', 'gender', 'lang_id', 'language', 'lang_group_id'],\n",
            "    num_rows: 3643\n",
            "})\n",
            "Dataset({\n",
            "    features: ['id', 'num_samples', 'path', 'audio', 'transcription', 'raw_transcription', 'gender', 'lang_id', 'language', 'lang_group_id'],\n",
            "    num_rows: 4056\n",
            "})\n"
          ]
        }
      ]
    },
    {
      "cell_type": "code",
      "source": [
        "fleurs_dataset_en[0]"
      ],
      "metadata": {
        "id": "J7YL5-cK7eus",
        "outputId": "763de7a5-4a63-4bec-c399-480c3f8e1608",
        "colab": {
          "base_uri": "https://localhost:8080/"
        }
      },
      "execution_count": null,
      "outputs": [
        {
          "output_type": "execute_result",
          "data": {
            "text/plain": [
              "{'id': 903,\n",
              " 'num_samples': 108800,\n",
              " 'path': '/root/.cache/huggingface/datasets/downloads/extracted/ee72a6213f7cabb647adadc74f3888674aa278435dca4f54892382eda44c8014/10004088536354799741.wav',\n",
              " 'audio': {'path': 'train/10004088536354799741.wav',\n",
              "  'array': array([ 0.00000000e+00,  0.00000000e+00,  0.00000000e+00, ...,\n",
              "         -3.15904617e-06, -3.03983688e-06, -3.27825546e-06]),\n",
              "  'sampling_rate': 16000},\n",
              " 'transcription': 'a tornado is a spinning column of very low-pressure air which sucks the surrounding air inward and upward',\n",
              " 'raw_transcription': 'A tornado is a spinning column of very low-pressure air, which sucks the surrounding air inward and upward.',\n",
              " 'gender': 1,\n",
              " 'lang_id': 19,\n",
              " 'language': 'English',\n",
              " 'lang_group_id': 0}"
            ]
          },
          "metadata": {},
          "execution_count": 58
        }
      ]
    },
    {
      "cell_type": "code",
      "source": [
        "# Remove unnecessary columns\n",
        "\n",
        "fleurs_dataset_en = fleurs_dataset_en.remove_columns(['num_samples', 'path', 'audio', 'transcription', 'gender', 'lang_id', 'language', 'lang_group_id'])\n",
        "fleurs_dataset_en = fleurs_dataset_en.rename_column(\"raw_transcription\", \"text_en\")\n",
        "\n",
        "fleurs_dataset_ga = fleurs_dataset_ga.remove_columns(['num_samples', 'path', 'transcription', 'gender', 'lang_id', 'language', 'lang_group_id'])\n",
        "fleurs_dataset_ga = fleurs_dataset_ga.rename_column(\"raw_transcription\", \"text_ga\")\n",
        "\n",
        "print(fleurs_dataset_en)\n",
        "print(fleurs_dataset_ga)"
      ],
      "metadata": {
        "colab": {
          "base_uri": "https://localhost:8080/"
        },
        "id": "f8jauOUSgg4C",
        "outputId": "de416662-3486-4b07-80f1-024e33e2869f"
      },
      "execution_count": null,
      "outputs": [
        {
          "output_type": "stream",
          "name": "stdout",
          "text": [
            "Dataset({\n",
            "    features: ['id', 'text_en'],\n",
            "    num_rows: 3643\n",
            "})\n",
            "Dataset({\n",
            "    features: ['id', 'audio', 'text_ga'],\n",
            "    num_rows: 4056\n",
            "})\n"
          ]
        }
      ]
    },
    {
      "cell_type": "code",
      "source": [
        "fleurs_dataset_ga[\"audio\"][0]"
      ],
      "metadata": {
        "colab": {
          "base_uri": "https://localhost:8080/"
        },
        "id": "pcJyKafhmqk0",
        "outputId": "b7d245d2-7508-41ca-a120-357b0f94c701"
      },
      "execution_count": null,
      "outputs": [
        {
          "output_type": "execute_result",
          "data": {
            "text/plain": [
              "{'path': 'train/10009174761044778838.wav',\n",
              " 'array': array([ 0.        ,  0.        ,  0.        , ..., -0.00030464,\n",
              "        -0.00026166, -0.00036532]),\n",
              " 'sampling_rate': 16000}"
            ]
          },
          "metadata": {},
          "execution_count": 10
        }
      ]
    },
    {
      "cell_type": "code",
      "source": [
        "# Cast the audio column to Audio with sampling rate 16000\n",
        "\n",
        "from datasets import Audio\n",
        "\n",
        "fleurs_dataset_ga = fleurs_dataset_ga.cast_column(\"audio\", Audio(sampling_rate=16000))\n",
        "\n",
        "print(fleurs_dataset_ga)"
      ],
      "metadata": {
        "colab": {
          "base_uri": "https://localhost:8080/"
        },
        "id": "iA5qSfsjkU_c",
        "outputId": "130fcc7a-8a04-4678-c470-b7a39365aae9"
      },
      "execution_count": null,
      "outputs": [
        {
          "output_type": "stream",
          "name": "stdout",
          "text": [
            "Dataset({\n",
            "    features: ['id', 'audio', 'text_ga'],\n",
            "    num_rows: 4056\n",
            "})\n"
          ]
        }
      ]
    },
    {
      "cell_type": "code",
      "source": [
        "# TEST: Count the number of common examples in the English and Irish datasets\n",
        "\n",
        "count = 0\n",
        "for idx in fleurs_dataset_ga[\"id\"]:\n",
        "  if idx in fleurs_dataset_en[\"id\"]:\n",
        "    count += 1\n",
        "\n",
        "print(count)"
      ],
      "metadata": {
        "colab": {
          "base_uri": "https://localhost:8080/"
        },
        "id": "8q06dHmkp0a8",
        "outputId": "3417ae1b-3d2f-463d-bf27-305df783f729"
      },
      "execution_count": null,
      "outputs": [
        {
          "output_type": "stream",
          "name": "stdout",
          "text": [
            "3991\n"
          ]
        }
      ]
    },
    {
      "cell_type": "code",
      "source": [
        "# Merge the English and Irish datasets based on the id\n",
        "\n",
        "def merge_examples(example):\n",
        "  id = example['id']\n",
        "  if id in fleurs_dataset_en['id']:\n",
        "    example[\"text_en\"] = fleurs_dataset_en['text_en'][fleurs_dataset_en['id'].index(id)]\n",
        "  else:\n",
        "    example[\"text_en\"] = None\n",
        "\n",
        "  return example"
      ],
      "metadata": {
        "id": "FjoNp0ryt3PX"
      },
      "execution_count": null,
      "outputs": []
    },
    {
      "cell_type": "code",
      "source": [
        "# Map the merge function to the Irish dataset\n",
        "merged_dataset = fleurs_dataset_ga.map(merge_examples)\n",
        "\n",
        "# Filter out None values\n",
        "fleurs_dataset_enga = merged_dataset.filter(lambda example: example['text_en'] is not None)"
      ],
      "metadata": {
        "colab": {
          "base_uri": "https://localhost:8080/",
          "height": 81,
          "referenced_widgets": [
            "a2c4ebb3058d4f16a3c3c82db46748f7",
            "7c3482a406c84511bb2c0b414a9343a6",
            "ed3782c4c71d493bbfebc0ebc5a5cf0c",
            "0f703cb4e54646c8b1f2801d6b236f6b",
            "1f9c7cbebf4b44ec88a3a4313c8f4c18",
            "6dbf30a66c624f9ead2a190d4f0a59b5",
            "9987823696df4b7685ca21964b6184dd",
            "67ae8a39c8b4422692823ae57796cab3",
            "06e5951b3a1c4b62801d4447f0747b1e",
            "7e013c9273ab400b849d7055fe3736af",
            "97e609caecfc44dcbbc07e21337250af",
            "b44ae6753dfb484699be5faa499ef93c",
            "91178d5775f2444b805df05a7a5d659c",
            "8a3a34d373734b51af55495fbec62296",
            "0e0d701700ec43db927625ff9d4c9ebb",
            "bc6d875394e44189852003e98dcf7943",
            "afb094289a1749de9bab15ab8726c312",
            "11f1b08d24924402bd4bca3561cce13c",
            "ef8dc49934744e35a512fa79c6204b15",
            "ed63f3ff728f43e0b6157f176c73a513",
            "ae73a68b555c4e13bcae38cb8d14ddf0",
            "897d056a5171424d810ef78b130d0a29"
          ]
        },
        "id": "LC2mfwhUw-1I",
        "outputId": "b2ea86aa-c211-485a-94b6-7513db7a10f3"
      },
      "execution_count": null,
      "outputs": [
        {
          "output_type": "display_data",
          "data": {
            "text/plain": [
              "Map:   0%|          | 0/4056 [00:00<?, ? examples/s]"
            ],
            "application/vnd.jupyter.widget-view+json": {
              "version_major": 2,
              "version_minor": 0,
              "model_id": "a2c4ebb3058d4f16a3c3c82db46748f7"
            }
          },
          "metadata": {}
        },
        {
          "output_type": "display_data",
          "data": {
            "text/plain": [
              "Filter:   0%|          | 0/4056 [00:00<?, ? examples/s]"
            ],
            "application/vnd.jupyter.widget-view+json": {
              "version_major": 2,
              "version_minor": 0,
              "model_id": "b44ae6753dfb484699be5faa499ef93c"
            }
          },
          "metadata": {}
        }
      ]
    },
    {
      "cell_type": "code",
      "source": [
        "fleurs_dataset_enga"
      ],
      "metadata": {
        "colab": {
          "base_uri": "https://localhost:8080/"
        },
        "id": "WykiC4xT216s",
        "outputId": "d7dc67de-e211-448d-b6b6-bbdf763fa12d"
      },
      "execution_count": null,
      "outputs": [
        {
          "output_type": "execute_result",
          "data": {
            "text/plain": [
              "Dataset({\n",
              "    features: ['id', 'audio', 'text_ga', 'text_en'],\n",
              "    num_rows: 3991\n",
              "})"
            ]
          },
          "metadata": {},
          "execution_count": 9
        }
      ]
    },
    {
      "cell_type": "code",
      "source": [
        "# Check out some samples to make sure it is well-aligned\n",
        "fleurs_dataset_enga[1000]"
      ],
      "metadata": {
        "colab": {
          "base_uri": "https://localhost:8080/"
        },
        "id": "-MaT2EAvv0Y-",
        "outputId": "5683fd6f-aef8-4da5-ecf7-82fdfe5b9131"
      },
      "execution_count": null,
      "outputs": [
        {
          "output_type": "execute_result",
          "data": {
            "text/plain": [
              "{'id': 329,\n",
              " 'audio': {'path': 'train/15834551979343337701.wav',\n",
              "  'array': array([0.        , 0.        , 0.        , ..., 0.00057214, 0.0004546 ,\n",
              "         0.00032961]),\n",
              "  'sampling_rate': 16000},\n",
              " 'text_ga': \"Chuaigh sé isteach leo i 1945 agus d'fhan sé go dtí 1958.\",\n",
              " 'text_en': 'He joined them in 1945 and stayed until 1958.'}"
            ]
          },
          "metadata": {},
          "execution_count": 11
        }
      ]
    },
    {
      "cell_type": "code",
      "source": [
        "# Upload FLEURS-GA-EN dataset to Hugging Face Hub\n",
        "\n",
        "fleurs_dataset_enga.push_to_hub(\"ymoslem/FLEURS-GA-EN\",\n",
        "                                data_dir=\"data\",\n",
        "                                split=\"train\",\n",
        "                                private=True\n",
        "                                )"
      ],
      "metadata": {
        "id": "l2ZzlGHH3tTe"
      },
      "execution_count": null,
      "outputs": []
    }
  ],
  "metadata": {
    "colab": {
      "provenance": [],
      "machine_shape": "hm",
      "include_colab_link": true
    },
    "kernelspec": {
      "display_name": "Python 3",
      "name": "python3"
    },
    "widgets": {
      "application/vnd.jupyter.widget-state+json": {
        "a2c4ebb3058d4f16a3c3c82db46748f7": {
          "model_module": "@jupyter-widgets/controls",
          "model_name": "HBoxModel",
          "model_module_version": "1.5.0",
          "state": {
            "_dom_classes": [],
            "_model_module": "@jupyter-widgets/controls",
            "_model_module_version": "1.5.0",
            "_model_name": "HBoxModel",
            "_view_count": null,
            "_view_module": "@jupyter-widgets/controls",
            "_view_module_version": "1.5.0",
            "_view_name": "HBoxView",
            "box_style": "",
            "children": [
              "IPY_MODEL_7c3482a406c84511bb2c0b414a9343a6",
              "IPY_MODEL_ed3782c4c71d493bbfebc0ebc5a5cf0c",
              "IPY_MODEL_0f703cb4e54646c8b1f2801d6b236f6b"
            ],
            "layout": "IPY_MODEL_1f9c7cbebf4b44ec88a3a4313c8f4c18"
          }
        },
        "7c3482a406c84511bb2c0b414a9343a6": {
          "model_module": "@jupyter-widgets/controls",
          "model_name": "HTMLModel",
          "model_module_version": "1.5.0",
          "state": {
            "_dom_classes": [],
            "_model_module": "@jupyter-widgets/controls",
            "_model_module_version": "1.5.0",
            "_model_name": "HTMLModel",
            "_view_count": null,
            "_view_module": "@jupyter-widgets/controls",
            "_view_module_version": "1.5.0",
            "_view_name": "HTMLView",
            "description": "",
            "description_tooltip": null,
            "layout": "IPY_MODEL_6dbf30a66c624f9ead2a190d4f0a59b5",
            "placeholder": "​",
            "style": "IPY_MODEL_9987823696df4b7685ca21964b6184dd",
            "value": "Map: 100%"
          }
        },
        "ed3782c4c71d493bbfebc0ebc5a5cf0c": {
          "model_module": "@jupyter-widgets/controls",
          "model_name": "FloatProgressModel",
          "model_module_version": "1.5.0",
          "state": {
            "_dom_classes": [],
            "_model_module": "@jupyter-widgets/controls",
            "_model_module_version": "1.5.0",
            "_model_name": "FloatProgressModel",
            "_view_count": null,
            "_view_module": "@jupyter-widgets/controls",
            "_view_module_version": "1.5.0",
            "_view_name": "ProgressView",
            "bar_style": "success",
            "description": "",
            "description_tooltip": null,
            "layout": "IPY_MODEL_67ae8a39c8b4422692823ae57796cab3",
            "max": 4056,
            "min": 0,
            "orientation": "horizontal",
            "style": "IPY_MODEL_06e5951b3a1c4b62801d4447f0747b1e",
            "value": 4056
          }
        },
        "0f703cb4e54646c8b1f2801d6b236f6b": {
          "model_module": "@jupyter-widgets/controls",
          "model_name": "HTMLModel",
          "model_module_version": "1.5.0",
          "state": {
            "_dom_classes": [],
            "_model_module": "@jupyter-widgets/controls",
            "_model_module_version": "1.5.0",
            "_model_name": "HTMLModel",
            "_view_count": null,
            "_view_module": "@jupyter-widgets/controls",
            "_view_module_version": "1.5.0",
            "_view_name": "HTMLView",
            "description": "",
            "description_tooltip": null,
            "layout": "IPY_MODEL_7e013c9273ab400b849d7055fe3736af",
            "placeholder": "​",
            "style": "IPY_MODEL_97e609caecfc44dcbbc07e21337250af",
            "value": " 4056/4056 [00:44&lt;00:00, 30.90 examples/s]"
          }
        },
        "1f9c7cbebf4b44ec88a3a4313c8f4c18": {
          "model_module": "@jupyter-widgets/base",
          "model_name": "LayoutModel",
          "model_module_version": "1.2.0",
          "state": {
            "_model_module": "@jupyter-widgets/base",
            "_model_module_version": "1.2.0",
            "_model_name": "LayoutModel",
            "_view_count": null,
            "_view_module": "@jupyter-widgets/base",
            "_view_module_version": "1.2.0",
            "_view_name": "LayoutView",
            "align_content": null,
            "align_items": null,
            "align_self": null,
            "border": null,
            "bottom": null,
            "display": null,
            "flex": null,
            "flex_flow": null,
            "grid_area": null,
            "grid_auto_columns": null,
            "grid_auto_flow": null,
            "grid_auto_rows": null,
            "grid_column": null,
            "grid_gap": null,
            "grid_row": null,
            "grid_template_areas": null,
            "grid_template_columns": null,
            "grid_template_rows": null,
            "height": null,
            "justify_content": null,
            "justify_items": null,
            "left": null,
            "margin": null,
            "max_height": null,
            "max_width": null,
            "min_height": null,
            "min_width": null,
            "object_fit": null,
            "object_position": null,
            "order": null,
            "overflow": null,
            "overflow_x": null,
            "overflow_y": null,
            "padding": null,
            "right": null,
            "top": null,
            "visibility": null,
            "width": null
          }
        },
        "6dbf30a66c624f9ead2a190d4f0a59b5": {
          "model_module": "@jupyter-widgets/base",
          "model_name": "LayoutModel",
          "model_module_version": "1.2.0",
          "state": {
            "_model_module": "@jupyter-widgets/base",
            "_model_module_version": "1.2.0",
            "_model_name": "LayoutModel",
            "_view_count": null,
            "_view_module": "@jupyter-widgets/base",
            "_view_module_version": "1.2.0",
            "_view_name": "LayoutView",
            "align_content": null,
            "align_items": null,
            "align_self": null,
            "border": null,
            "bottom": null,
            "display": null,
            "flex": null,
            "flex_flow": null,
            "grid_area": null,
            "grid_auto_columns": null,
            "grid_auto_flow": null,
            "grid_auto_rows": null,
            "grid_column": null,
            "grid_gap": null,
            "grid_row": null,
            "grid_template_areas": null,
            "grid_template_columns": null,
            "grid_template_rows": null,
            "height": null,
            "justify_content": null,
            "justify_items": null,
            "left": null,
            "margin": null,
            "max_height": null,
            "max_width": null,
            "min_height": null,
            "min_width": null,
            "object_fit": null,
            "object_position": null,
            "order": null,
            "overflow": null,
            "overflow_x": null,
            "overflow_y": null,
            "padding": null,
            "right": null,
            "top": null,
            "visibility": null,
            "width": null
          }
        },
        "9987823696df4b7685ca21964b6184dd": {
          "model_module": "@jupyter-widgets/controls",
          "model_name": "DescriptionStyleModel",
          "model_module_version": "1.5.0",
          "state": {
            "_model_module": "@jupyter-widgets/controls",
            "_model_module_version": "1.5.0",
            "_model_name": "DescriptionStyleModel",
            "_view_count": null,
            "_view_module": "@jupyter-widgets/base",
            "_view_module_version": "1.2.0",
            "_view_name": "StyleView",
            "description_width": ""
          }
        },
        "67ae8a39c8b4422692823ae57796cab3": {
          "model_module": "@jupyter-widgets/base",
          "model_name": "LayoutModel",
          "model_module_version": "1.2.0",
          "state": {
            "_model_module": "@jupyter-widgets/base",
            "_model_module_version": "1.2.0",
            "_model_name": "LayoutModel",
            "_view_count": null,
            "_view_module": "@jupyter-widgets/base",
            "_view_module_version": "1.2.0",
            "_view_name": "LayoutView",
            "align_content": null,
            "align_items": null,
            "align_self": null,
            "border": null,
            "bottom": null,
            "display": null,
            "flex": null,
            "flex_flow": null,
            "grid_area": null,
            "grid_auto_columns": null,
            "grid_auto_flow": null,
            "grid_auto_rows": null,
            "grid_column": null,
            "grid_gap": null,
            "grid_row": null,
            "grid_template_areas": null,
            "grid_template_columns": null,
            "grid_template_rows": null,
            "height": null,
            "justify_content": null,
            "justify_items": null,
            "left": null,
            "margin": null,
            "max_height": null,
            "max_width": null,
            "min_height": null,
            "min_width": null,
            "object_fit": null,
            "object_position": null,
            "order": null,
            "overflow": null,
            "overflow_x": null,
            "overflow_y": null,
            "padding": null,
            "right": null,
            "top": null,
            "visibility": null,
            "width": null
          }
        },
        "06e5951b3a1c4b62801d4447f0747b1e": {
          "model_module": "@jupyter-widgets/controls",
          "model_name": "ProgressStyleModel",
          "model_module_version": "1.5.0",
          "state": {
            "_model_module": "@jupyter-widgets/controls",
            "_model_module_version": "1.5.0",
            "_model_name": "ProgressStyleModel",
            "_view_count": null,
            "_view_module": "@jupyter-widgets/base",
            "_view_module_version": "1.2.0",
            "_view_name": "StyleView",
            "bar_color": null,
            "description_width": ""
          }
        },
        "7e013c9273ab400b849d7055fe3736af": {
          "model_module": "@jupyter-widgets/base",
          "model_name": "LayoutModel",
          "model_module_version": "1.2.0",
          "state": {
            "_model_module": "@jupyter-widgets/base",
            "_model_module_version": "1.2.0",
            "_model_name": "LayoutModel",
            "_view_count": null,
            "_view_module": "@jupyter-widgets/base",
            "_view_module_version": "1.2.0",
            "_view_name": "LayoutView",
            "align_content": null,
            "align_items": null,
            "align_self": null,
            "border": null,
            "bottom": null,
            "display": null,
            "flex": null,
            "flex_flow": null,
            "grid_area": null,
            "grid_auto_columns": null,
            "grid_auto_flow": null,
            "grid_auto_rows": null,
            "grid_column": null,
            "grid_gap": null,
            "grid_row": null,
            "grid_template_areas": null,
            "grid_template_columns": null,
            "grid_template_rows": null,
            "height": null,
            "justify_content": null,
            "justify_items": null,
            "left": null,
            "margin": null,
            "max_height": null,
            "max_width": null,
            "min_height": null,
            "min_width": null,
            "object_fit": null,
            "object_position": null,
            "order": null,
            "overflow": null,
            "overflow_x": null,
            "overflow_y": null,
            "padding": null,
            "right": null,
            "top": null,
            "visibility": null,
            "width": null
          }
        },
        "97e609caecfc44dcbbc07e21337250af": {
          "model_module": "@jupyter-widgets/controls",
          "model_name": "DescriptionStyleModel",
          "model_module_version": "1.5.0",
          "state": {
            "_model_module": "@jupyter-widgets/controls",
            "_model_module_version": "1.5.0",
            "_model_name": "DescriptionStyleModel",
            "_view_count": null,
            "_view_module": "@jupyter-widgets/base",
            "_view_module_version": "1.2.0",
            "_view_name": "StyleView",
            "description_width": ""
          }
        },
        "b44ae6753dfb484699be5faa499ef93c": {
          "model_module": "@jupyter-widgets/controls",
          "model_name": "HBoxModel",
          "model_module_version": "1.5.0",
          "state": {
            "_dom_classes": [],
            "_model_module": "@jupyter-widgets/controls",
            "_model_module_version": "1.5.0",
            "_model_name": "HBoxModel",
            "_view_count": null,
            "_view_module": "@jupyter-widgets/controls",
            "_view_module_version": "1.5.0",
            "_view_name": "HBoxView",
            "box_style": "",
            "children": [
              "IPY_MODEL_91178d5775f2444b805df05a7a5d659c",
              "IPY_MODEL_8a3a34d373734b51af55495fbec62296",
              "IPY_MODEL_0e0d701700ec43db927625ff9d4c9ebb"
            ],
            "layout": "IPY_MODEL_bc6d875394e44189852003e98dcf7943"
          }
        },
        "91178d5775f2444b805df05a7a5d659c": {
          "model_module": "@jupyter-widgets/controls",
          "model_name": "HTMLModel",
          "model_module_version": "1.5.0",
          "state": {
            "_dom_classes": [],
            "_model_module": "@jupyter-widgets/controls",
            "_model_module_version": "1.5.0",
            "_model_name": "HTMLModel",
            "_view_count": null,
            "_view_module": "@jupyter-widgets/controls",
            "_view_module_version": "1.5.0",
            "_view_name": "HTMLView",
            "description": "",
            "description_tooltip": null,
            "layout": "IPY_MODEL_afb094289a1749de9bab15ab8726c312",
            "placeholder": "​",
            "style": "IPY_MODEL_11f1b08d24924402bd4bca3561cce13c",
            "value": "Filter: 100%"
          }
        },
        "8a3a34d373734b51af55495fbec62296": {
          "model_module": "@jupyter-widgets/controls",
          "model_name": "FloatProgressModel",
          "model_module_version": "1.5.0",
          "state": {
            "_dom_classes": [],
            "_model_module": "@jupyter-widgets/controls",
            "_model_module_version": "1.5.0",
            "_model_name": "FloatProgressModel",
            "_view_count": null,
            "_view_module": "@jupyter-widgets/controls",
            "_view_module_version": "1.5.0",
            "_view_name": "ProgressView",
            "bar_style": "success",
            "description": "",
            "description_tooltip": null,
            "layout": "IPY_MODEL_ef8dc49934744e35a512fa79c6204b15",
            "max": 4056,
            "min": 0,
            "orientation": "horizontal",
            "style": "IPY_MODEL_ed63f3ff728f43e0b6157f176c73a513",
            "value": 4056
          }
        },
        "0e0d701700ec43db927625ff9d4c9ebb": {
          "model_module": "@jupyter-widgets/controls",
          "model_name": "HTMLModel",
          "model_module_version": "1.5.0",
          "state": {
            "_dom_classes": [],
            "_model_module": "@jupyter-widgets/controls",
            "_model_module_version": "1.5.0",
            "_model_name": "HTMLModel",
            "_view_count": null,
            "_view_module": "@jupyter-widgets/controls",
            "_view_module_version": "1.5.0",
            "_view_name": "HTMLView",
            "description": "",
            "description_tooltip": null,
            "layout": "IPY_MODEL_ae73a68b555c4e13bcae38cb8d14ddf0",
            "placeholder": "​",
            "style": "IPY_MODEL_897d056a5171424d810ef78b130d0a29",
            "value": " 4056/4056 [00:41&lt;00:00, 98.85 examples/s]"
          }
        },
        "bc6d875394e44189852003e98dcf7943": {
          "model_module": "@jupyter-widgets/base",
          "model_name": "LayoutModel",
          "model_module_version": "1.2.0",
          "state": {
            "_model_module": "@jupyter-widgets/base",
            "_model_module_version": "1.2.0",
            "_model_name": "LayoutModel",
            "_view_count": null,
            "_view_module": "@jupyter-widgets/base",
            "_view_module_version": "1.2.0",
            "_view_name": "LayoutView",
            "align_content": null,
            "align_items": null,
            "align_self": null,
            "border": null,
            "bottom": null,
            "display": null,
            "flex": null,
            "flex_flow": null,
            "grid_area": null,
            "grid_auto_columns": null,
            "grid_auto_flow": null,
            "grid_auto_rows": null,
            "grid_column": null,
            "grid_gap": null,
            "grid_row": null,
            "grid_template_areas": null,
            "grid_template_columns": null,
            "grid_template_rows": null,
            "height": null,
            "justify_content": null,
            "justify_items": null,
            "left": null,
            "margin": null,
            "max_height": null,
            "max_width": null,
            "min_height": null,
            "min_width": null,
            "object_fit": null,
            "object_position": null,
            "order": null,
            "overflow": null,
            "overflow_x": null,
            "overflow_y": null,
            "padding": null,
            "right": null,
            "top": null,
            "visibility": null,
            "width": null
          }
        },
        "afb094289a1749de9bab15ab8726c312": {
          "model_module": "@jupyter-widgets/base",
          "model_name": "LayoutModel",
          "model_module_version": "1.2.0",
          "state": {
            "_model_module": "@jupyter-widgets/base",
            "_model_module_version": "1.2.0",
            "_model_name": "LayoutModel",
            "_view_count": null,
            "_view_module": "@jupyter-widgets/base",
            "_view_module_version": "1.2.0",
            "_view_name": "LayoutView",
            "align_content": null,
            "align_items": null,
            "align_self": null,
            "border": null,
            "bottom": null,
            "display": null,
            "flex": null,
            "flex_flow": null,
            "grid_area": null,
            "grid_auto_columns": null,
            "grid_auto_flow": null,
            "grid_auto_rows": null,
            "grid_column": null,
            "grid_gap": null,
            "grid_row": null,
            "grid_template_areas": null,
            "grid_template_columns": null,
            "grid_template_rows": null,
            "height": null,
            "justify_content": null,
            "justify_items": null,
            "left": null,
            "margin": null,
            "max_height": null,
            "max_width": null,
            "min_height": null,
            "min_width": null,
            "object_fit": null,
            "object_position": null,
            "order": null,
            "overflow": null,
            "overflow_x": null,
            "overflow_y": null,
            "padding": null,
            "right": null,
            "top": null,
            "visibility": null,
            "width": null
          }
        },
        "11f1b08d24924402bd4bca3561cce13c": {
          "model_module": "@jupyter-widgets/controls",
          "model_name": "DescriptionStyleModel",
          "model_module_version": "1.5.0",
          "state": {
            "_model_module": "@jupyter-widgets/controls",
            "_model_module_version": "1.5.0",
            "_model_name": "DescriptionStyleModel",
            "_view_count": null,
            "_view_module": "@jupyter-widgets/base",
            "_view_module_version": "1.2.0",
            "_view_name": "StyleView",
            "description_width": ""
          }
        },
        "ef8dc49934744e35a512fa79c6204b15": {
          "model_module": "@jupyter-widgets/base",
          "model_name": "LayoutModel",
          "model_module_version": "1.2.0",
          "state": {
            "_model_module": "@jupyter-widgets/base",
            "_model_module_version": "1.2.0",
            "_model_name": "LayoutModel",
            "_view_count": null,
            "_view_module": "@jupyter-widgets/base",
            "_view_module_version": "1.2.0",
            "_view_name": "LayoutView",
            "align_content": null,
            "align_items": null,
            "align_self": null,
            "border": null,
            "bottom": null,
            "display": null,
            "flex": null,
            "flex_flow": null,
            "grid_area": null,
            "grid_auto_columns": null,
            "grid_auto_flow": null,
            "grid_auto_rows": null,
            "grid_column": null,
            "grid_gap": null,
            "grid_row": null,
            "grid_template_areas": null,
            "grid_template_columns": null,
            "grid_template_rows": null,
            "height": null,
            "justify_content": null,
            "justify_items": null,
            "left": null,
            "margin": null,
            "max_height": null,
            "max_width": null,
            "min_height": null,
            "min_width": null,
            "object_fit": null,
            "object_position": null,
            "order": null,
            "overflow": null,
            "overflow_x": null,
            "overflow_y": null,
            "padding": null,
            "right": null,
            "top": null,
            "visibility": null,
            "width": null
          }
        },
        "ed63f3ff728f43e0b6157f176c73a513": {
          "model_module": "@jupyter-widgets/controls",
          "model_name": "ProgressStyleModel",
          "model_module_version": "1.5.0",
          "state": {
            "_model_module": "@jupyter-widgets/controls",
            "_model_module_version": "1.5.0",
            "_model_name": "ProgressStyleModel",
            "_view_count": null,
            "_view_module": "@jupyter-widgets/base",
            "_view_module_version": "1.2.0",
            "_view_name": "StyleView",
            "bar_color": null,
            "description_width": ""
          }
        },
        "ae73a68b555c4e13bcae38cb8d14ddf0": {
          "model_module": "@jupyter-widgets/base",
          "model_name": "LayoutModel",
          "model_module_version": "1.2.0",
          "state": {
            "_model_module": "@jupyter-widgets/base",
            "_model_module_version": "1.2.0",
            "_model_name": "LayoutModel",
            "_view_count": null,
            "_view_module": "@jupyter-widgets/base",
            "_view_module_version": "1.2.0",
            "_view_name": "LayoutView",
            "align_content": null,
            "align_items": null,
            "align_self": null,
            "border": null,
            "bottom": null,
            "display": null,
            "flex": null,
            "flex_flow": null,
            "grid_area": null,
            "grid_auto_columns": null,
            "grid_auto_flow": null,
            "grid_auto_rows": null,
            "grid_column": null,
            "grid_gap": null,
            "grid_row": null,
            "grid_template_areas": null,
            "grid_template_columns": null,
            "grid_template_rows": null,
            "height": null,
            "justify_content": null,
            "justify_items": null,
            "left": null,
            "margin": null,
            "max_height": null,
            "max_width": null,
            "min_height": null,
            "min_width": null,
            "object_fit": null,
            "object_position": null,
            "order": null,
            "overflow": null,
            "overflow_x": null,
            "overflow_y": null,
            "padding": null,
            "right": null,
            "top": null,
            "visibility": null,
            "width": null
          }
        },
        "897d056a5171424d810ef78b130d0a29": {
          "model_module": "@jupyter-widgets/controls",
          "model_name": "DescriptionStyleModel",
          "model_module_version": "1.5.0",
          "state": {
            "_model_module": "@jupyter-widgets/controls",
            "_model_module_version": "1.5.0",
            "_model_name": "DescriptionStyleModel",
            "_view_count": null,
            "_view_module": "@jupyter-widgets/base",
            "_view_module_version": "1.2.0",
            "_view_name": "StyleView",
            "description_width": ""
          }
        }
      }
    }
  },
  "nbformat": 4,
  "nbformat_minor": 0
}