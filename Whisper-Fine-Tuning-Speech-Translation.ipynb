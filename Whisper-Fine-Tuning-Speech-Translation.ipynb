{
  "cells": [
    {
      "cell_type": "markdown",
      "metadata": {
        "id": "view-in-github",
        "colab_type": "text"
      },
      "source": [
        "<a href=\"https://colab.research.google.com/github/ymoslem/Speech/blob/main/Whisper-Fine-Tuning-Speech-Translation.ipynb\" target=\"_parent\"><img src=\"https://colab.research.google.com/assets/colab-badge.svg\" alt=\"Open In Colab\"/></a>"
      ]
    },
    {
      "cell_type": "markdown",
      "source": [
        "# Speech Translation (Irish-Enlgish)\n",
        "This notebook is modified for _Irish-to-English_ **Speech Translation** from the original HuggingFace tutorial, [Fine-Tune Whisper For Multilingual ASR with 🤗 Transformers](https://huggingface.co/blog/fine-tune-whisper).\n"
      ],
      "metadata": {
        "id": "flOEsz4Y3Qus"
      }
    },
    {
      "cell_type": "markdown",
      "metadata": {
        "id": "55fb8d21-df06-472a-99dd-b59567be6dad"
      },
      "source": [
        "# Prepare Environment"
      ]
    },
    {
      "cell_type": "code",
      "execution_count": null,
      "metadata": {
        "id": "95048026-a3b7-43f0-a274-1bad65e407b4"
      },
      "outputs": [],
      "source": [
        "!nvidia-smi"
      ]
    },
    {
      "cell_type": "code",
      "execution_count": null,
      "metadata": {
        "id": "e68ea9f8-9b61-414e-8885-3033b67c2850"
      },
      "outputs": [],
      "source": [
        "!pip3 install --upgrade transformers accelerate datasets -q\n",
        "!pip3 install evaluate jiwer sacrebleu -q\n",
        "!pip3 install librosa tensorboardX wandb -q"
      ]
    },
    {
      "cell_type": "code",
      "execution_count": null,
      "metadata": {
        "id": "bPy5dKOoaMEF"
      },
      "outputs": [],
      "source": [
        "!wandb login $WB_TOKEN"
      ]
    },
    {
      "cell_type": "code",
      "execution_count": null,
      "metadata": {
        "id": "_nyLBwrjr_Mu"
      },
      "outputs": [],
      "source": [
        "import os\n",
        "os.environ[\"WANDB_PROJECT\"] = \"Whisper-Irish\"\n",
        "os.environ[\"WANDB_LOG_MODEL\"] = \"end\" # or \"checkpoint\""
      ]
    },
    {
      "cell_type": "markdown",
      "metadata": {
        "id": "b219c9dd-39b6-4a95-b2a1-3f547a1e7bc0"
      },
      "source": [
        "# Load Dataset(s)"
      ]
    },
    {
      "cell_type": "code",
      "execution_count": null,
      "metadata": {
        "id": "dYWcf2Ap0imm"
      },
      "outputs": [],
      "source": [
        "data_cache_dir = \"/workspace/data/\"\n",
        "model_cache_dir = \"/workspace/model/\""
      ]
    },
    {
      "cell_type": "code",
      "execution_count": null,
      "metadata": {
        "id": "xVWtSqIcZC4j"
      },
      "outputs": [],
      "source": [
        "from datasets import load_dataset, DatasetDict, Audio\n",
        "\n",
        "# Authentic dataset\n",
        "\n",
        "iwslt2023_gaen_original = DatasetDict()\n",
        "\n",
        "iwslt2023_gaen_original[\"train\"] = load_dataset(\"ymoslem/IWSLT2023-GA-EN\",\n",
        "                                                split=\"train+dev\",\n",
        "                                                token=True,\n",
        "                                                trust_remote_code=True,\n",
        "                                                cache_dir=data_cache_dir,\n",
        "                                                )\n",
        "iwslt2023_gaen_original[\"test\"] = load_dataset(\"ymoslem/IWSLT2023-GA-EN\",\n",
        "                                              split=\"test\",\n",
        "                                              token=True,\n",
        "                                              trust_remote_code=True,\n",
        "                                              cache_dir=data_cache_dir,\n",
        "                                              )\n",
        "\n",
        "iwslt2023_gaen_original = iwslt2023_gaen_original.cast_column(\"audio\", Audio(sampling_rate=16000))\n",
        "\n",
        "print(iwslt2023_gaen_original)\n",
        "print(iwslt2023_gaen_original[\"train\"][0])"
      ]
    },
    {
      "cell_type": "code",
      "execution_count": null,
      "metadata": {
        "id": "GFGw6SkMaeMr"
      },
      "outputs": [],
      "source": [
        "# Dataset #2: Fleurs (authentic)\n",
        "\n",
        "fleurs_dataset = load_dataset(\"ymoslem/FLEURS-GA-EN\",\n",
        "                              data_dir=\"data\",\n",
        "                              split=\"train\",\n",
        "                              token=True,\n",
        "                              trust_remote_code=True,\n",
        "                              cache_dir=data_cache_dir,\n",
        "                              )\n",
        "\n",
        "fleurs_dataset = fleurs_dataset.remove_columns([\"id\", \"text_ga\"])\n",
        "fleurs_dataset = fleurs_dataset.rename_column(\"text_en\", \"translation\")\n",
        "\n",
        "fleurs_dataset = fleurs_dataset.cast_column(\"audio\", Audio(sampling_rate=16000))\n",
        "\n",
        "print(fleurs_dataset)\n",
        "print(fleurs_dataset[0])"
      ]
    },
    {
      "cell_type": "code",
      "execution_count": null,
      "metadata": {
        "id": "pg481LgVMFOT"
      },
      "outputs": [],
      "source": [
        "# Dataset #3: BitesizeIrish (authentic)\n",
        "\n",
        "bitesize_dataset = load_dataset(\"ymoslem/BitesizeIrish-GA-EN\",\n",
        "                                data_dir=\"data\",\n",
        "                                split=\"train\",\n",
        "                                token=True,\n",
        "                                trust_remote_code=True,\n",
        "                                cache_dir=data_cache_dir,\n",
        "                                #download_mode=\"force_redownload\",\n",
        "                                )\n",
        "\n",
        "bitesize_dataset = bitesize_dataset.remove_columns([\"text_ga\", \"text_en_raw\", \"pronunciation\", \"url\"])\n",
        "bitesize_dataset = bitesize_dataset.rename_column(\"text_en\", \"translation\")\n",
        "\n",
        "bitesize_dataset = bitesize_dataset.cast_column(\"audio\", Audio(sampling_rate=16000))\n",
        "\n",
        "print(bitesize_dataset)\n",
        "bitesize_dataset[0]"
      ]
    },
    {
      "cell_type": "code",
      "execution_count": null,
      "metadata": {
        "id": "dJjOCWDANZRu"
      },
      "outputs": [],
      "source": [
        "# Dataset #4: SpokenWords (MTed)\n",
        "\n",
        "spoken_words_dataset = load_dataset(\"ymoslem/SpokenWords-GA-EN-MTed\",\n",
        "                                    data_dir=\"data\",\n",
        "                                    split=\"train\",\n",
        "                                    token=True,\n",
        "                                    trust_remote_code=True,\n",
        "                                    cache_dir=data_cache_dir,\n",
        "                                    )\n",
        "\n",
        "spoken_words_dataset = spoken_words_dataset.remove_columns([\"keyword\"])\n",
        "\n",
        "spoken_words_dataset = spoken_words_dataset.cast_column(\"audio\", Audio(sampling_rate=16000))\n",
        "\n",
        "print(spoken_words_dataset)\n",
        "print(spoken_words_dataset[0])"
      ]
    },
    {
      "cell_type": "code",
      "execution_count": null,
      "metadata": {
        "id": "-1KA8y4xKwmy"
      },
      "outputs": [],
      "source": [
        "# Dataset #5: Tatoeba-Speech (synthetic)\n",
        "\n",
        "tatoeba_dataset = load_dataset(\"ymoslem/Tatoeba-Speech-Irish\",\n",
        "                              data_dir=\"data\",\n",
        "                              split=\"train\",\n",
        "                              token=True,\n",
        "                              trust_remote_code=True,\n",
        "                              cache_dir=data_cache_dir,\n",
        "                              )\n",
        "\n",
        "tatoeba_dataset = tatoeba_dataset.remove_columns([\"text_ga\"])\n",
        "tatoeba_dataset = tatoeba_dataset.rename_column(\"text_en\", \"translation\")\n",
        "\n",
        "tatoeba_dataset = tatoeba_dataset.cast_column(\"audio\", Audio(sampling_rate=16000))\n",
        "\n",
        "print(tatoeba_dataset)\n",
        "print(tatoeba_dataset[0])"
      ]
    },
    {
      "cell_type": "code",
      "execution_count": null,
      "metadata": {
        "id": "NN8CpKiSLTJ7"
      },
      "outputs": [],
      "source": [
        "# Dataset #6: Wikimedia-Speech (synthetic)\n",
        "\n",
        "wikimedia_dataset = load_dataset(\"ymoslem/Wikimedia-Speech-Irish\",\n",
        "                                 data_dir=\"data\",\n",
        "                                 split=\"train\",\n",
        "                                 token=True,\n",
        "                                 trust_remote_code=True,\n",
        "                                 cache_dir=data_cache_dir,\n",
        "                                )\n",
        "\n",
        "wikimedia_dataset = wikimedia_dataset.remove_columns([\"text_ga\"])\n",
        "wikimedia_dataset = wikimedia_dataset.rename_column(\"text_en\", \"translation\")\n",
        "\n",
        "wikimedia_dataset = wikimedia_dataset.cast_column(\"audio\", Audio(sampling_rate=16000))\n",
        "\n",
        "print(wikimedia_dataset)\n",
        "print(wikimedia_dataset[0])"
      ]
    },
    {
      "cell_type": "code",
      "execution_count": null,
      "metadata": {
        "id": "WlCCvxImiNk7"
      },
      "outputs": [],
      "source": [
        "# Dataset #7: EUbookshop-Speech (synthetic)\n",
        "\n",
        "ebookshop_dataset = load_dataset(\"ymoslem/EUbookshop-Speech-Irish\",\n",
        "                                 data_dir=\"data\",\n",
        "                                 split=\"train\",\n",
        "                                 token=True,\n",
        "                                 trust_remote_code=True,\n",
        "                                 cache_dir=data_cache_dir,\n",
        "                                )\n",
        "\n",
        "ebookshop_dataset = ebookshop_dataset.remove_columns([\"text_ga\"])\n",
        "ebookshop_dataset = ebookshop_dataset.rename_column(\"text_en\", \"translation\")\n",
        "\n",
        "ebookshop_dataset = ebookshop_dataset.cast_column(\"audio\", Audio(sampling_rate=16000))\n",
        "\n",
        "print(ebookshop_dataset)\n",
        "print(ebookshop_dataset[0])"
      ]
    },
    {
      "cell_type": "code",
      "execution_count": null,
      "metadata": {
        "id": "Nq9bnuF9KTmq"
      },
      "outputs": [],
      "source": [
        "from datasets import concatenate_datasets\n",
        "\n",
        "iwslt2023_gaen = DatasetDict()\n",
        "\n",
        "iwslt2023_gaen[\"train\"] = concatenate_datasets([iwslt2023_gaen_original[\"train\"],\n",
        "                                                fleurs_dataset,\n",
        "                                                bitesize_dataset,\n",
        "                                                spoken_words_dataset,\n",
        "                                                tatoeba_dataset,\n",
        "                                                wikimedia_dataset,\n",
        "                                                ebookshop_dataset\n",
        "                                                ]\n",
        "                                               )\n",
        "\n",
        "iwslt2023_gaen[\"test\"] = iwslt2023_gaen_original[\"test\"]\n",
        "\n",
        "iwslt2023_gaen = iwslt2023_gaen.shuffle(seed=42)\n",
        "\n",
        "print(iwslt2023_gaen)"
      ]
    },
    {
      "cell_type": "code",
      "execution_count": null,
      "metadata": {
        "id": "54zqedjDVZpj"
      },
      "outputs": [],
      "source": [
        "iwslt2023_gaen[\"train\"][0]"
      ]
    },
    {
      "cell_type": "code",
      "execution_count": null,
      "metadata": {
        "id": "b-wOt_xU5lg0"
      },
      "outputs": [],
      "source": [
        "iwslt2023_gaen[\"test\"][0]"
      ]
    },
    {
      "cell_type": "markdown",
      "metadata": {
        "id": "2d63b2d2-f68a-4d74-b7f1-5127f6d16605"
      },
      "source": [
        "# Prepare Feature Extractor, Tokenizer and Data"
      ]
    },
    {
      "cell_type": "code",
      "source": [
        "# Define the Whisper model name\n",
        "# Options: \"openai/whisper-tiny\", \"openai/whisper-base\",\n",
        "# \"openai/whisper-small\", \"openai/whisper-medium\", \"openai/whisper-large-v3\"\n",
        "\n",
        "model_name = \"openai/whisper-medium\""
      ],
      "metadata": {
        "id": "CPyujw5bVOzB"
      },
      "execution_count": 2,
      "outputs": []
    },
    {
      "cell_type": "markdown",
      "metadata": {
        "id": "560332eb-3558-41a1-b500-e83a9f695f84"
      },
      "source": [
        "### Load WhisperFeatureExtractor"
      ]
    },
    {
      "cell_type": "code",
      "execution_count": null,
      "metadata": {
        "id": "bc77d7bb-f9e2-47f5-b663-30f7a4321ce5"
      },
      "outputs": [],
      "source": [
        "from transformers import WhisperFeatureExtractor\n",
        "\n",
        "feature_extractor = WhisperFeatureExtractor.from_pretrained(model_name,\n",
        "                                                            cache_dir=model_cache_dir,\n",
        "                                                           )"
      ]
    },
    {
      "cell_type": "markdown",
      "metadata": {
        "id": "93748af7-b917-4ecf-a0c8-7d89077ff9cb"
      },
      "source": [
        "### Load WhisperTokenizer"
      ]
    },
    {
      "cell_type": "code",
      "execution_count": null,
      "metadata": {
        "id": "c7b07f9b-ae0e-4f89-98f0-0c50d432eab6"
      },
      "outputs": [],
      "source": [
        "from transformers import WhisperTokenizer\n",
        "\n",
        "tokenizer = WhisperTokenizer.from_pretrained(model_name,\n",
        "                                             cache_dir=model_cache_dir,\n",
        "                                             language=\"English\",  # target language\n",
        "                                             task=\"translate\")  # important"
      ]
    },
    {
      "cell_type": "markdown",
      "metadata": {
        "id": "d2ef23f3-f4a8-483a-a2dc-080a7496cb1b"
      },
      "source": [
        "### Combine To Create A WhisperProcessor"
      ]
    },
    {
      "cell_type": "code",
      "execution_count": null,
      "metadata": {
        "id": "77d9f0c5-8607-4642-a8ac-c3ab2e223ea6"
      },
      "outputs": [],
      "source": [
        "from transformers import WhisperProcessor\n",
        "\n",
        "processor = WhisperProcessor.from_pretrained(model_name,\n",
        "                                             cache_dir=model_cache_dir,\n",
        "                                             language=\"English\",  # target language\n",
        "                                             task=\"translate\")  # important"
      ]
    },
    {
      "cell_type": "markdown",
      "metadata": {
        "id": "381acd09-0b0f-4d04-9eb3-f028ac0e5f2c"
      },
      "source": [
        "### Prepare Data"
      ]
    },
    {
      "cell_type": "code",
      "execution_count": null,
      "metadata": {
        "id": "6525c478-8962-4394-a1c4-103c54cce170"
      },
      "outputs": [],
      "source": [
        "def prepare_dataset(batch):\n",
        "  # load and resample audio data from 48 to 16kHz\n",
        "  audio = batch[\"audio\"]\n",
        "\n",
        "  # compute log-Mel input features from input audio array\n",
        "  batch[\"input_features\"] = feature_extractor(audio[\"array\"], sampling_rate=audio[\"sampling_rate\"]).input_features[0]\n",
        "\n",
        "  # encode target text to label ids\n",
        "  batch[\"labels\"] = tokenizer(batch[\"translation\"]).input_ids\n",
        "  return batch"
      ]
    },
    {
      "cell_type": "code",
      "execution_count": null,
      "metadata": {
        "id": "7b73ab39-ffaf-4b9e-86e5-782963c6134b"
      },
      "outputs": [],
      "source": [
        "iwslt2023_gaen = iwslt2023_gaen.map(prepare_dataset,\n",
        "                                    remove_columns=iwslt2023_gaen.column_names[\"train\"],\n",
        "                                    num_proc=None)"
      ]
    },
    {
      "cell_type": "markdown",
      "metadata": {
        "id": "263a5a58-0239-4a25-b0df-c625fc9c5810"
      },
      "source": [
        "## Training and Evaluation"
      ]
    },
    {
      "cell_type": "markdown",
      "metadata": {
        "id": "8d230e6d-624c-400a-bbf5-fa660881df25"
      },
      "source": [
        "### Define a Data Collator"
      ]
    },
    {
      "cell_type": "code",
      "execution_count": null,
      "metadata": {
        "id": "8326221e-ec13-4731-bb4e-51e5fc1486c5"
      },
      "outputs": [],
      "source": [
        "import torch\n",
        "\n",
        "from dataclasses import dataclass\n",
        "from typing import Any, Dict, List, Union\n",
        "\n",
        "@dataclass\n",
        "class DataCollatorSpeechSeq2SeqWithPadding:\n",
        "    processor: Any\n",
        "\n",
        "    def __call__(self, features: List[Dict[str, Union[List[int], torch.Tensor]]]) -> Dict[str, torch.Tensor]:\n",
        "        # split inputs and labels since they have to be of different lengths and need different padding methods\n",
        "        # first treat the audio inputs by simply returning torch tensors\n",
        "        input_features = [{\"input_features\": feature[\"input_features\"]} for feature in features]\n",
        "        batch = self.processor.feature_extractor.pad(input_features, return_tensors=\"pt\")\n",
        "\n",
        "        # get the tokenized label sequences\n",
        "        label_features = [{\"input_ids\": feature[\"labels\"]} for feature in features]\n",
        "        # pad the labels to max length\n",
        "        labels_batch = self.processor.tokenizer.pad(label_features, return_tensors=\"pt\")\n",
        "\n",
        "        # replace padding with -100 to ignore loss correctly\n",
        "        labels = labels_batch[\"input_ids\"].masked_fill(labels_batch.attention_mask.ne(1), -100)\n",
        "\n",
        "        # if bos token is appended in previous tokenization step,\n",
        "        # cut bos token here as it's append later anyways\n",
        "        if (labels[:, 0] == self.processor.tokenizer.bos_token_id).all().cpu().item():\n",
        "            labels = labels[:, 1:]\n",
        "\n",
        "        batch[\"labels\"] = labels\n",
        "\n",
        "        return batch"
      ]
    },
    {
      "cell_type": "code",
      "execution_count": null,
      "metadata": {
        "id": "fc834702-c0d3-4a96-b101-7b87be32bf42"
      },
      "outputs": [],
      "source": [
        "data_collator = DataCollatorSpeechSeq2SeqWithPadding(processor=processor)"
      ]
    },
    {
      "cell_type": "markdown",
      "metadata": {
        "id": "d62bb2ab-750a-45e7-82e9-61d6f4805698"
      },
      "source": [
        "### Evaluation Metrics"
      ]
    },
    {
      "cell_type": "code",
      "execution_count": null,
      "metadata": {
        "id": "b22b4011-f31f-4b57-b684-c52332f92890",
        "colab": {
          "referenced_widgets": [
            "87d6b2d4f4764ab99304a516fedc8d42",
            "f05786c984994c8a9c72266e7df3533b",
            "a89ac815ebae480c84580d2d55eff859"
          ]
        },
        "outputId": "7a705c61-c7ad-4691-e3fb-a761bfa09af7"
      },
      "outputs": [
        {
          "data": {
            "application/vnd.jupyter.widget-view+json": {
              "model_id": "87d6b2d4f4764ab99304a516fedc8d42",
              "version_major": 2,
              "version_minor": 0
            },
            "text/plain": [
              "Downloading builder script:   0%|          | 0.00/8.15k [00:00<?, ?B/s]"
            ]
          },
          "metadata": {},
          "output_type": "display_data"
        },
        {
          "data": {
            "application/vnd.jupyter.widget-view+json": {
              "model_id": "f05786c984994c8a9c72266e7df3533b",
              "version_major": 2,
              "version_minor": 0
            },
            "text/plain": [
              "Downloading builder script:   0%|          | 0.00/9.01k [00:00<?, ?B/s]"
            ]
          },
          "metadata": {},
          "output_type": "display_data"
        },
        {
          "data": {
            "application/vnd.jupyter.widget-view+json": {
              "model_id": "a89ac815ebae480c84580d2d55eff859",
              "version_major": 2,
              "version_minor": 0
            },
            "text/plain": [
              "Downloading builder script:   0%|          | 0.00/4.49k [00:00<?, ?B/s]"
            ]
          },
          "metadata": {},
          "output_type": "display_data"
        }
      ],
      "source": [
        "import evaluate\n",
        "\n",
        "metric_bleu = evaluate.load(\"sacrebleu\")\n",
        "metric_chrf = evaluate.load(\"chrf\")\n",
        "metric_wer = evaluate.load(\"wer\")\n",
        "# metric_comet = evaluate.load(\"comet\")"
      ]
    },
    {
      "cell_type": "code",
      "execution_count": null,
      "metadata": {
        "id": "23959a70-22d0-4ffe-9fa1-72b61e75bb52"
      },
      "outputs": [],
      "source": [
        "def compute_metrics(pred):\n",
        "    pred_ids = pred.predictions\n",
        "    label_ids = pred.label_ids\n",
        "\n",
        "    # replace -100 with the pad_token_id\n",
        "    label_ids[label_ids == -100] = tokenizer.pad_token_id\n",
        "\n",
        "    # we do not want to group tokens when computing the metrics\n",
        "    pred_str = tokenizer.batch_decode(pred_ids, skip_special_tokens=True)\n",
        "    label_str = tokenizer.batch_decode(label_ids, skip_special_tokens=True)\n",
        "\n",
        "    wer = 100 * metric_wer.compute(predictions=pred_str, references=label_str)\n",
        "\n",
        "    bleu = metric_bleu.compute(predictions=pred_str, references=label_str)\n",
        "    bleu = round(bleu[\"score\"], 2)\n",
        "\n",
        "    chrf = metric_chrf.compute(predictions=pred_str, references=label_str)\n",
        "    chrf = round(chrf[\"score\"], 2)\n",
        "\n",
        "    return {\"bleu\": bleu, \"chrf\": chrf, \"wer\": wer}"
      ]
    },
    {
      "cell_type": "markdown",
      "metadata": {
        "id": "daf2a825-6d9f-4a23-b145-c37c0039075b"
      },
      "source": [
        "### Load a Pre-Trained Checkpoint"
      ]
    },
    {
      "cell_type": "code",
      "execution_count": null,
      "metadata": {
        "id": "5a10cc4b-07ec-4ebd-ac1d-7c601023594f"
      },
      "outputs": [],
      "source": [
        "from transformers import WhisperForConditionalGeneration\n",
        "\n",
        "model = WhisperForConditionalGeneration.from_pretrained(model_name,\n",
        "                                                        cache_dir=model_cache_dir,\n",
        "                                                       )"
      ]
    },
    {
      "cell_type": "code",
      "source": [
        "# print(model.config)"
      ],
      "metadata": {
        "id": "tKdfwbATyUY0"
      },
      "execution_count": null,
      "outputs": []
    },
    {
      "cell_type": "code",
      "execution_count": null,
      "metadata": {
        "id": "62038ba3-88ed-4fce-84db-338f50dcd04f"
      },
      "outputs": [],
      "source": [
        "model.config.forced_decoder_ids = None\n",
        "model.config.suppress_tokens = []"
      ]
    },
    {
      "cell_type": "code",
      "execution_count": null,
      "metadata": {
        "id": "tEOL-QzNVB8j"
      },
      "outputs": [],
      "source": [
        "# Define the target language, here it is \"en\" as we want to translate into English\n",
        "# If you want to translate into another language, change \"en\" to its language code\n",
        "model.generation_config.language = \"en\""
      ]
    },
    {
      "cell_type": "markdown",
      "metadata": {
        "id": "2178dea4-80ca-47b6-b6ea-ba1915c90c06"
      },
      "source": [
        "### Define the Training Configuration"
      ]
    },
    {
      "cell_type": "code",
      "execution_count": null,
      "metadata": {
        "id": "jcVBfH3J3ezh"
      },
      "outputs": [],
      "source": [
        "# Traing arguments\n",
        "\n",
        "run_name = \"whisper-medium-ga2en\"\n",
        "\n",
        "output_dir = \"ymoslem/\" + run_name\n",
        "\n",
        "batch_size = 16  # tested on A100-SXM4-80GB GPU; change if the GPU memory is less\n",
        "\n",
        "learning_rate = 1e-4\n",
        "warmup_ratio = 0.03\n",
        "\n",
        "max_steps = 8000  # equivalent to 1.1 epoch for these datasets; change as needed\n",
        "\n",
        "gradient_accumulation_steps=1\n",
        "\n",
        "max_length = 225"
      ]
    },
    {
      "cell_type": "code",
      "execution_count": null,
      "metadata": {
        "id": "0ae3e9af-97b7-4aa0-ae85-20b23b5bcb3a"
      },
      "outputs": [],
      "source": [
        "from transformers import Seq2SeqTrainingArguments\n",
        "\n",
        "training_args = Seq2SeqTrainingArguments(\n",
        "    output_dir=output_dir,  # change to a repo name of your choice\n",
        "    per_device_train_batch_size=batch_size,\n",
        "    gradient_accumulation_steps=gradient_accumulation_steps,  # increase by 2x for every 2x decrease in batch size - default 1\n",
        "    learning_rate=learning_rate,\n",
        "    # warmup_steps=warmup_steps,\n",
        "    warmup_ratio=warmup_ratio,\n",
        "    max_steps=max_steps,\n",
        "    # gradient_checkpointing=True,  # less memory, but slower\n",
        "    fp16=True,\n",
        "    evaluation_strategy=\"steps\",\n",
        "    per_device_eval_batch_size=batch_size,\n",
        "    predict_with_generate=True,\n",
        "    generation_max_length=max_length,\n",
        "    save_steps=100,\n",
        "    eval_steps=100,\n",
        "    logging_steps=25,\n",
        "    report_to=[\"tensorboard\", \"wandb\"],\n",
        "    run_name=run_name,\n",
        "    load_best_model_at_end=True,\n",
        "    metric_for_best_model=\"chrf\",\n",
        "    greater_is_better=True,\n",
        "    push_to_hub=True,  # set to True to push the model to the Hugging Face model hub\n",
        "    private=True,  # set to True to make the repository private\n",
        ")"
      ]
    },
    {
      "cell_type": "code",
      "execution_count": null,
      "metadata": {
        "id": "ggD7hBfhxS_W"
      },
      "outputs": [],
      "source": [
        "training_args.learning_rate"
      ]
    },
    {
      "cell_type": "code",
      "execution_count": null,
      "metadata": {
        "id": "aLIVdlzm8GCN"
      },
      "outputs": [],
      "source": [
        "print(training_args)"
      ]
    },
    {
      "cell_type": "code",
      "execution_count": null,
      "metadata": {
        "id": "ea59ed39-3bc5-4c79-9fbe-41abc33053d6"
      },
      "outputs": [],
      "source": [
        "from transformers import Seq2SeqTrainer\n",
        "\n",
        "trainer = Seq2SeqTrainer(\n",
        "    args=training_args,\n",
        "    model=model,\n",
        "    train_dataset=iwslt2023_gaen[\"train\"],\n",
        "    eval_dataset=iwslt2023_gaen[\"test\"],\n",
        "    data_collator=data_collator,\n",
        "    compute_metrics=compute_metrics,\n",
        "    tokenizer=processor.feature_extractor,\n",
        ")"
      ]
    },
    {
      "cell_type": "code",
      "execution_count": null,
      "metadata": {
        "colab": {
          "base_uri": "https://localhost:8080/",
          "height": 347
        },
        "id": "-2zQwMfEOBJq",
        "outputId": "ece22905-77ac-43e8-a678-ca0c200402ef"
      },
      "outputs": [
        {
          "data": {
            "text/plain": [
              "[]"
            ]
          },
          "execution_count": 38,
          "metadata": {},
          "output_type": "execute_result"
        }
      ],
      "source": [
        "processor.save_pretrained(training_args.output_dir)"
      ]
    },
    {
      "cell_type": "markdown",
      "metadata": {
        "id": "7f404cf9-4345-468c-8196-4bd101d9bd51"
      },
      "source": [
        "### Training"
      ]
    },
    {
      "cell_type": "code",
      "execution_count": null,
      "metadata": {
        "id": "ee8b7b8e-1c9a-4d77-9137-1778a629e6de"
      },
      "outputs": [],
      "source": [
        "# Start training\n",
        "trainer.train()"
      ]
    },
    {
      "cell_type": "code",
      "execution_count": null,
      "metadata": {
        "id": "b1cyDAeYxCqp"
      },
      "outputs": [],
      "source": [
        "# To rather resume training from a checkpoint\n",
        "\n",
        "# trainer.train(resume_from_checkpoint=True)\n",
        "# trainer.train(resume_from_checkpoint=\"ymoslem/whisper-medium-ga2en/checkpoint-8000/\")"
      ]
    },
    {
      "cell_type": "code",
      "execution_count": null,
      "metadata": {
        "id": "ZtoeSu3kkKzT"
      },
      "outputs": [],
      "source": [
        "# %load_ext tensorboard\n",
        "# %tensorboard --logdir /content/drive/MyDrive/models/whisper-ga2en/ymoslem/whisper-medium-ga2en/runs"
      ]
    },
    {
      "cell_type": "code",
      "execution_count": 3,
      "metadata": {
        "id": "cc572c8a-70c0-4efb-acdb-dcf201a3b0dc"
      },
      "outputs": [],
      "source": [
        "kwargs = {\n",
        "    \"dataset_tags\": [\"ymoslem/IWSLT2023-GA-EN\", \"ymoslem/FLEURS-GA-EN\",\n",
        "                     \"ymoslem/BitesizeIrish-GA-EN\", \"ymoslem/SpokenWords-GA-EN-MTed\",\n",
        "                     \"ymoslem/Tatoeba-Speech-Irish\", \"ymoslem/Wikimedia-Speech-Irish\",\n",
        "                     \"ymoslem/EUbookshop-Speech-Irish\"],\n",
        "    \"dataset\": \"IWSLT-2023, FLEURS, BiteSize, SpokenWords, Tatoeba, Wikimedia, and EUbookshop\",  # a 'pretty' name for the training dataset\n",
        "    # \"dataset_args\": \"config: en, split: test\",\n",
        "    \"language\": [\"ga\", \"en\"],\n",
        "    \"model_name\": \"Whisper Medium GA-EN Speech Translation\",  # a 'pretty' name for our model\n",
        "    \"finetuned_from\": model_name,\n",
        "    \"tasks\": \"automatic-speech-recognition\",\n",
        "}"
      ]
    },
    {
      "cell_type": "code",
      "execution_count": null,
      "metadata": {
        "id": "d7030622-caf7-4039-939b-6195cdaa2585"
      },
      "outputs": [],
      "source": [
        "trainer.push_to_hub(**kwargs)"
      ]
    },
    {
      "cell_type": "code",
      "execution_count": null,
      "metadata": {
        "id": "cDBxULQmKLEA"
      },
      "outputs": [],
      "source": [
        "import wandb\n",
        "\n",
        "datset_names = \"IWSLT-2023 GA-EN, FLEURS, BiteSize, SpokenWords, Tatoeba, Wikimedia, EUbookshop\"\n",
        "\n",
        "wandb.run.notes = f\"\"\"Whisper Medium, fine-tuned on {datset_names} datasets.\n",
        "Learning rate {learning_rate}, warmup ratio {warmup_ratio},\n",
        "batch size {batch_size}, max steps {max_steps},\n",
        "gradient accumulation steps {training_args.gradient_accumulation_steps}.\"\"\"\n",
        "\n",
        "wandb.finish()"
      ]
    },
    {
      "cell_type": "code",
      "execution_count": null,
      "metadata": {
        "id": "nA0Oc_BkiNlS"
      },
      "outputs": [],
      "source": [
        "print(trainer.state.log_history)"
      ]
    }
  ],
  "metadata": {
    "accelerator": "GPU",
    "colab": {
      "gpuType": "T4",
      "provenance": [],
      "include_colab_link": true
    },
    "kernelspec": {
      "display_name": "Python 3 (ipykernel)",
      "language": "python",
      "name": "python3"
    },
    "language_info": {
      "codemirror_mode": {
        "name": "ipython",
        "version": 3
      },
      "file_extension": ".py",
      "mimetype": "text/x-python",
      "name": "python",
      "nbconvert_exporter": "python",
      "pygments_lexer": "ipython3",
      "version": "3.10.12"
    }
  },
  "nbformat": 4,
  "nbformat_minor": 0
}